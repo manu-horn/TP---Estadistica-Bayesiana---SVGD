{
 "cells": [
  {
   "cell_type": "markdown",
   "id": "8708af12-2e03-4be3-8ee1-acbe5b2a2c72",
   "metadata": {},
   "source": [
    "TP Bayes - Stein Variational Gradient Descent (SVGD)"
   ]
  },
  {
   "cell_type": "markdown",
   "id": "9a7ed733-11b2-4f6e-a8f0-06ed9de160b0",
   "metadata": {},
   "source": [
    "https://github.com/DartML/Stein-Variational-Gradient-Descent?tab=readme-ov-file"
   ]
  },
  {
   "cell_type": "markdown",
   "id": "72856509-cb72-4539-8c4c-1ad4b572a532",
   "metadata": {},
   "source": [
    "Estoy probando las funciones de este link ^"
   ]
  },
  {
   "cell_type": "code",
   "execution_count": 16,
   "id": "41206792-ff97-4110-81a4-eaa335718f6f",
   "metadata": {
    "collapsed": true,
    "jupyter": {
     "outputs_hidden": true
    }
   },
   "outputs": [
    {
     "name": "stdout",
     "output_type": "stream",
     "text": [
      "Requirement already satisfied: matplotlib in c:\\users\\manuh\\miniconda3\\lib\\site-packages (3.9.2)\n",
      "Requirement already satisfied: contourpy>=1.0.1 in c:\\users\\manuh\\miniconda3\\lib\\site-packages (from matplotlib) (1.3.1)\n",
      "Requirement already satisfied: cycler>=0.10 in c:\\users\\manuh\\miniconda3\\lib\\site-packages (from matplotlib) (0.12.1)\n",
      "Requirement already satisfied: fonttools>=4.22.0 in c:\\users\\manuh\\miniconda3\\lib\\site-packages (from matplotlib) (4.55.0)\n",
      "Requirement already satisfied: kiwisolver>=1.3.1 in c:\\users\\manuh\\miniconda3\\lib\\site-packages (from matplotlib) (1.4.7)\n",
      "Requirement already satisfied: numpy>=1.23 in c:\\users\\manuh\\miniconda3\\lib\\site-packages (from matplotlib) (1.26.4)\n",
      "Requirement already satisfied: packaging>=20.0 in c:\\users\\manuh\\miniconda3\\lib\\site-packages (from matplotlib) (24.1)\n",
      "Requirement already satisfied: pillow>=8 in c:\\users\\manuh\\miniconda3\\lib\\site-packages (from matplotlib) (11.0.0)\n",
      "Requirement already satisfied: pyparsing>=2.3.1 in c:\\users\\manuh\\miniconda3\\lib\\site-packages (from matplotlib) (3.2.0)\n",
      "Requirement already satisfied: python-dateutil>=2.7 in c:\\users\\manuh\\miniconda3\\lib\\site-packages (from matplotlib) (2.9.0.post0)\n",
      "Requirement already satisfied: six>=1.5 in c:\\users\\manuh\\miniconda3\\lib\\site-packages (from python-dateutil>=2.7->matplotlib) (1.16.0)\n"
     ]
    }
   ],
   "source": [
    "!pip install matplotlib"
   ]
  },
  {
   "cell_type": "code",
   "execution_count": 14,
   "id": "c26f0cc2-a2a1-4ad4-8f39-c412516a2f22",
   "metadata": {},
   "outputs": [],
   "source": [
    "import numpy as np\n",
    "import matplotlib.pyplot as plt\n",
    "from scipy.special import expit as sigmoid\n",
    "import numpy.matlib as nm"
   ]
  },
  {
   "cell_type": "code",
   "execution_count": 9,
   "id": "bf78c92a-2a3a-4a19-a666-04974c0b48ca",
   "metadata": {},
   "outputs": [],
   "source": [
    "from scipy.spatial.distance import pdist, squareform"
   ]
  },
  {
   "cell_type": "code",
   "execution_count": 11,
   "id": "012266cd-790c-4b69-9889-19ca71e70660",
   "metadata": {},
   "outputs": [],
   "source": [
    "class SVGD():\n",
    "\n",
    "    def __init__(self):\n",
    "        pass\n",
    "    \n",
    "    def svgd_kernel(self, theta, h = -1):\n",
    "        sq_dist = pdist(theta)\n",
    "        pairwise_dists = squareform(sq_dist)**2\n",
    "        if h < 0: # if h < 0, using median trick\n",
    "            h = np.median(pairwise_dists)  \n",
    "            h = np.sqrt(0.5 * h / np.log(theta.shape[0]+1))\n",
    "\n",
    "        # compute the rbf kernel\n",
    "        Kxy = np.exp( -pairwise_dists / h**2 / 2)\n",
    "\n",
    "        dxkxy = -np.matmul(Kxy, theta)\n",
    "        sumkxy = np.sum(Kxy, axis=1)\n",
    "        for i in range(theta.shape[1]):\n",
    "            dxkxy[:, i] = dxkxy[:,i] + np.multiply(theta[:,i],sumkxy)\n",
    "        dxkxy = dxkxy / (h**2)\n",
    "        return (Kxy, dxkxy)\n",
    "    \n",
    " \n",
    "    def update(self, x0, lnprob, n_iter = 1000, stepsize = 1e-3, bandwidth = -1, alpha = 0.9, debug = False):\n",
    "        # Check input\n",
    "        if x0 is None or lnprob is None:\n",
    "            raise ValueError('x0 or lnprob cannot be None!')\n",
    "        \n",
    "        theta = np.copy(x0) \n",
    "        \n",
    "        # adagrad with momentum\n",
    "        fudge_factor = 1e-6\n",
    "        historical_grad = 0\n",
    "        for iter in range(n_iter):\n",
    "            if debug and (iter+1) % 1000 == 0:\n",
    "                print('iter ' + str(iter+1))\n",
    "            \n",
    "            lnpgrad = lnprob(theta)\n",
    "            # calculating the kernel matrix\n",
    "            kxy, dxkxy = self.svgd_kernel(theta, h = -1)  \n",
    "            grad_theta = (np.matmul(kxy, lnpgrad) + dxkxy) / x0.shape[0]  \n",
    "            \n",
    "            # adagrad \n",
    "            if iter == 0:\n",
    "                historical_grad = historical_grad + grad_theta ** 2\n",
    "            else:\n",
    "                historical_grad = alpha * historical_grad + (1 - alpha) * (grad_theta ** 2)\n",
    "            adj_grad = np.divide(grad_theta, fudge_factor+np.sqrt(historical_grad))\n",
    "            theta = theta + stepsize * adj_grad \n",
    "            \n",
    "        return theta"
   ]
  },
  {
   "cell_type": "code",
   "execution_count": 15,
   "id": "43057694-f1a0-4e85-8bfb-ce38da9d4af7",
   "metadata": {},
   "outputs": [
    {
     "name": "stdout",
     "output_type": "stream",
     "text": [
      "ground truth:  [-0.6871  0.801 ]\n",
      "svgd:  [-0.68640907  0.80405577]\n"
     ]
    }
   ],
   "source": [
    "class MVN:\n",
    "    def __init__(self, mu, A):\n",
    "        self.mu = mu\n",
    "        self.A = A\n",
    "    \n",
    "    def dlnprob(self, theta):\n",
    "        return -1*np.matmul(theta-nm.repmat(self.mu, theta.shape[0], 1), self.A)\n",
    "    \n",
    "if __name__ == '__main__':\n",
    "    A = np.array([[0.2260,0.1652],[0.1652,0.6779]])\n",
    "    mu = np.array([-0.6871,0.8010])\n",
    "    \n",
    "    model = MVN(mu, A)\n",
    "    \n",
    "    x0 = np.random.normal(0,1, [10,2]);\n",
    "    theta = SVGD().update(x0, model.dlnprob, n_iter=1000, stepsize=0.01)\n",
    "    \n",
    "    print(\"ground truth: \", mu)\n",
    "    print(\"svgd: \", np.mean(theta,axis=0))"
   ]
  },
  {
   "cell_type": "markdown",
   "id": "93fc137d-6584-4ba7-ba80-8b05ba221308",
   "metadata": {},
   "source": [
    "Podríamos ver el ejemplo de la red neuronal o de la regresión logística"
   ]
  }
 ],
 "metadata": {
  "kernelspec": {
   "display_name": "Python 3 (ipykernel)",
   "language": "python",
   "name": "python3"
  },
  "language_info": {
   "codemirror_mode": {
    "name": "ipython",
    "version": 3
   },
   "file_extension": ".py",
   "mimetype": "text/x-python",
   "name": "python",
   "nbconvert_exporter": "python",
   "pygments_lexer": "ipython3",
   "version": "3.12.4"
  }
 },
 "nbformat": 4,
 "nbformat_minor": 5
}
